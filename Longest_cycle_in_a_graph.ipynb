{
 "cells": [
  {
   "cell_type": "markdown",
   "metadata": {},
   "source": [
    "# Longest Cycle in a Graph\n",
    "\n",
    "You are given a directed graph of n nodes numbered from 0 to n - 1, where each node has at most one outgoing edge.\n",
    "\n",
    "The graph is represented with a given 0-indexed array edges of size n, indicating that there is a directed edge from node i to node edges[i]. If there is no outgoing edge from node i, then edges[i] == -1.\n",
    "\n",
    "Return the length of the longest cycle in the graph. If no cycle exists, return -1.\n",
    "\n",
    "A cycle is a path that starts and ends at the same node.\n",
    "\n",
    "\n",
    "Link: https://leetcode.com/problems/longest-cycle-in-a-graph/"
   ]
  },
  {
   "cell_type": "code",
   "execution_count": 45,
   "metadata": {},
   "outputs": [],
   "source": [
    "class Solution(object): ### O(n^2)\n",
    "    def longestCycle(self, edges):\n",
    "        \"\"\"\n",
    "        :type edges: List[int]\n",
    "        :rtype: int\n",
    "        \"\"\"\n",
    "        hops = list()\n",
    "        for pos, node in enumerate(edges):\n",
    "            temp_node = edges[pos]\n",
    "            count_hops = 0 \n",
    "            visited_nodes = {pos}\n",
    "            while temp_node != -1:\n",
    "                count_hops += 1\n",
    "                if temp_node in visited_nodes:\n",
    "                    break\n",
    "                    \n",
    "                visited_nodes.add(temp_node)\n",
    "                temp_node = edges[temp_node]\n",
    "                \n",
    "            if temp_node == pos:\n",
    "                hops.append(count_hops)\n",
    "            else:\n",
    "                hops.append(-1)\n",
    "            \n",
    "        return max(hops)"
   ]
  },
  {
   "cell_type": "code",
   "execution_count": 96,
   "metadata": {},
   "outputs": [],
   "source": [
    "class Solution(object): ### O(n)\n",
    "    def longestCycle(self, edges):\n",
    "        \"\"\"\n",
    "        :type edges: List[int]\n",
    "        :rtype: int\n",
    "        \"\"\"\n",
    "        hops = list()\n",
    "        visited_nodes = set()\n",
    "        for pos, node in enumerate(edges):\n",
    "            if pos not in visited_nodes:\n",
    "                visited_nodes.add(pos)\n",
    "                journey = [pos]\n",
    "                temp_node = edges[pos]\n",
    "                while temp_node != -1:\n",
    "                    if temp_node in visited_nodes:\n",
    "                        journey.append(temp_node)\n",
    "                        break\n",
    "\n",
    "                    visited_nodes.add(temp_node)\n",
    "                    journey.append(temp_node)\n",
    "                    temp_node = edges[temp_node]\n",
    "\n",
    "                ids = [i for i, j in enumerate(journey) if j == temp_node]\n",
    "                if len(ids) > 1:\n",
    "                    hops.append(ids[1]-ids[0])\n",
    "                else:\n",
    "                    hops.append(-1)\n",
    "        \n",
    "        return max(hops)"
   ]
  },
  {
   "cell_type": "code",
   "execution_count": 97,
   "metadata": {},
   "outputs": [],
   "source": [
    "s = Solution()"
   ]
  },
  {
   "cell_type": "code",
   "execution_count": 98,
   "metadata": {},
   "outputs": [
    {
     "name": "stdout",
     "output_type": "stream",
     "text": [
      "3\n"
     ]
    }
   ],
   "source": [
    "edges = [3,3,4,2,3]\n",
    "e = s.longestCycle(edges)\n",
    "print(e)"
   ]
  },
  {
   "cell_type": "code",
   "execution_count": 100,
   "metadata": {},
   "outputs": [
    {
     "name": "stdout",
     "output_type": "stream",
     "text": [
      "-1\n"
     ]
    }
   ],
   "source": [
    "edges = [2,-1,3,1]\n",
    "e = s.longestCycle(edges)\n",
    "print(e)"
   ]
  },
  {
   "cell_type": "code",
   "execution_count": null,
   "metadata": {},
   "outputs": [],
   "source": []
  },
  {
   "cell_type": "code",
   "execution_count": null,
   "metadata": {},
   "outputs": [],
   "source": []
  }
 ],
 "metadata": {
  "kernelspec": {
   "display_name": "Python 3",
   "language": "python",
   "name": "python3"
  },
  "language_info": {
   "codemirror_mode": {
    "name": "ipython",
    "version": 3
   },
   "file_extension": ".py",
   "mimetype": "text/x-python",
   "name": "python",
   "nbconvert_exporter": "python",
   "pygments_lexer": "ipython3",
   "version": "3.7.6"
  }
 },
 "nbformat": 4,
 "nbformat_minor": 4
}
