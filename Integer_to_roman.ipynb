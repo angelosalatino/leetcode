{
 "cells": [
  {
   "cell_type": "markdown",
   "metadata": {},
   "source": [
    "# Integer to Romans\n",
    "\n",
    "Roman numerals are represented by seven different symbols: I, V, X, L, C, D and M.\n",
    "\n",
    "Symbol       Value\\\n",
    "I             1\\\n",
    "V             5\\\n",
    "X             10\\\n",
    "L             50\\\n",
    "C             100\\\n",
    "D             500\\\n",
    "M             1000\\\n",
    "For example, 2 is written as II in Roman numeral, just two one's added together. 12 is written as XII, which is simply X + II. The number 27 is written as XXVII, which is XX + V + II.\n",
    "\n",
    "Roman numerals are usually written largest to smallest from left to right. However, the numeral for four is not IIII. Instead, the number four is written as IV. Because the one is before the five we subtract it making four. The same principle applies to the number nine, which is written as IX. There are six instances where subtraction is used:\n",
    "\n",
    "I can be placed before V (5) and X (10) to make 4 and 9. \n",
    "X can be placed before L (50) and C (100) to make 40 and 90. \n",
    "C can be placed before D (500) and M (1000) to make 400 and 900.\n",
    "Given an integer, convert it to a roman numeral.\n",
    "\n",
    "\n",
    "Link: https://leetcode.com/problems/integer-to-roman/\n"
   ]
  },
  {
   "cell_type": "code",
   "execution_count": 7,
   "metadata": {},
   "outputs": [],
   "source": [
    "class Solution(object):\n",
    "    def intToRoman(self, num):\n",
    "        \"\"\"\n",
    "        :type num: int\n",
    "        :rtype: str\n",
    "        \"\"\"\n",
    "        roman_number = \"\"\n",
    "        \n",
    "        remainder = num%1000\n",
    "        \n",
    "        most_significant_digit = int((num-remainder)/1000)\n",
    "        \n",
    "        roman_number+= self.getRomanLetter(most_significant_digit, \"M\", \"M\", \"M\")\n",
    "        \n",
    "        \n",
    "            \n",
    "        num = remainder\n",
    "        \n",
    "        remainder = num%100\n",
    "        \n",
    "        most_significant_digit = int((num-remainder)/100)\n",
    "        \n",
    "        roman_number += self.getRomanLetter(most_significant_digit, \"C\", \"D\", \"M\")\n",
    "        \n",
    "        \n",
    "        \n",
    "        num = remainder\n",
    "        \n",
    "        remainder = num%10\n",
    "        \n",
    "        most_significant_digit = int((num-remainder)/10)\n",
    "        \n",
    "        roman_number += self.getRomanLetter(most_significant_digit, \"X\", \"L\", \"C\")\n",
    "        \n",
    "    \n",
    "        \n",
    "        most_significant_digit = remainder\n",
    "        \n",
    "        roman_number += self.getRomanLetter(most_significant_digit, \"I\", \"V\", \"X\")\n",
    "        \n",
    "        print(roman_number)\n",
    "        \n",
    "        \n",
    "    def getRomanLetter(self, most_significant, low, mid, high):\n",
    "        roman_letters = \"\"\n",
    "        if most_significant <= 3:\n",
    "            for i in range(most_significant):\n",
    "                roman_letters += low\n",
    "        if most_significant == 4:\n",
    "            roman_letters = low+mid\n",
    "        if most_significant == 5:\n",
    "            roman_letters = mid \n",
    "        if most_significant >5 and most_significant<=8:\n",
    "            roman_letters = mid\n",
    "            for i in range(most_significant-5):\n",
    "                roman_letters += low\n",
    "        if most_significant == 9:\n",
    "            roman_letters = low+high\n",
    "        if most_significant == 10:\n",
    "            roman_letters = high \n",
    "        \n",
    "        return roman_letters\n",
    "        "
   ]
  },
  {
   "cell_type": "code",
   "execution_count": 8,
   "metadata": {},
   "outputs": [
    {
     "name": "stdout",
     "output_type": "stream",
     "text": [
      "MMMCMXCIX\n"
     ]
    }
   ],
   "source": [
    "num  = 3999\n",
    "s = Solution().intToRoman(num)"
   ]
  },
  {
   "cell_type": "code",
   "execution_count": null,
   "metadata": {},
   "outputs": [],
   "source": []
  }
 ],
 "metadata": {
  "kernelspec": {
   "display_name": "Python 3",
   "language": "python",
   "name": "python3"
  },
  "language_info": {
   "codemirror_mode": {
    "name": "ipython",
    "version": 3
   },
   "file_extension": ".py",
   "mimetype": "text/x-python",
   "name": "python",
   "nbconvert_exporter": "python",
   "pygments_lexer": "ipython3",
   "version": "3.7.6"
  }
 },
 "nbformat": 4,
 "nbformat_minor": 4
}
